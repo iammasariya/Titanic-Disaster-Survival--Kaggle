{
 "cells": [
  {
   "cell_type": "code",
   "execution_count": 1,
   "metadata": {
    "collapsed": false
   },
   "outputs": [],
   "source": [
    "import os\n",
    "import numpy as np\n",
    "from pyspark.sql import SparkSession\n",
    "import matplotlib.pyplot as plt\n",
    "import seaborn as sns\n",
    "%matplotlib inline\n",
    "from pyspark.sql.functions import udf\n",
    "from pyspark.sql.types import *\n",
    "from pyspark.ml.feature import StringIndexer\n",
    "from pyspark.ml.linalg import Vectors\n",
    "from pyspark.ml.feature import VectorAssembler\n",
    "from pyspark.mllib.util import MLUtils\n",
    "from pyspark.ml.linalg import Matrices\n",
    "from pyspark.ml import Pipeline\n",
    "from pyspark.ml.classification import RandomForestClassifier\n",
    "from pyspark.ml.feature import IndexToString, StringIndexer, VectorIndexer\n",
    "from pyspark.ml.evaluation import MulticlassClassificationEvaluator"
   ]
  },
  {
   "cell_type": "code",
   "execution_count": 2,
   "metadata": {
    "collapsed": false
   },
   "outputs": [],
   "source": [
    "# Calling spark session to register application\n",
    "spark = SparkSession \\\n",
    "    .builder \\\n",
    "    .appName(\"Random\") \\\n",
    "    .config(\"spark.some.config.option\", \"some-value\") \\\n",
    "    .getOrCreate()"
   ]
  },
  {
   "cell_type": "code",
   "execution_count": 3,
   "metadata": {
    "collapsed": false
   },
   "outputs": [],
   "source": [
    "train_df = spark.read \\\n",
    "    .format(\"csv\") \\\n",
    "    .option(\"header\", \"true\") \\\n",
    "    .option(\"inferSchema\", \"true\") \\\n",
    "    .load(\"train.csv\")"
   ]
  },
  {
   "cell_type": "code",
   "execution_count": 4,
   "metadata": {
    "collapsed": false
   },
   "outputs": [
    {
     "name": "stdout",
     "output_type": "stream",
     "text": [
      "+-----------+--------+------+--------------------+------+----+-----+-----+----------------+-------+-----+--------+\n",
      "|PassengerId|Survived|Pclass|                Name|   Sex| Age|SibSp|Parch|          Ticket|   Fare|Cabin|Embarked|\n",
      "+-----------+--------+------+--------------------+------+----+-----+-----+----------------+-------+-----+--------+\n",
      "|          1|       0|     3|Braund, Mr. Owen ...|  male|22.0|    1|    0|       A/5 21171|   7.25| null|       S|\n",
      "|          2|       1|     1|Cumings, Mrs. Joh...|female|38.0|    1|    0|        PC 17599|71.2833|  C85|       C|\n",
      "|          3|       1|     3|Heikkinen, Miss. ...|female|26.0|    0|    0|STON/O2. 3101282|  7.925| null|       S|\n",
      "|          4|       1|     1|Futrelle, Mrs. Ja...|female|35.0|    1|    0|          113803|   53.1| C123|       S|\n",
      "|          5|       0|     3|Allen, Mr. Willia...|  male|35.0|    0|    0|          373450|   8.05| null|       S|\n",
      "|          6|       0|     3|    Moran, Mr. James|  male|null|    0|    0|          330877| 8.4583| null|       Q|\n",
      "|          7|       0|     1|McCarthy, Mr. Tim...|  male|54.0|    0|    0|           17463|51.8625|  E46|       S|\n",
      "|          8|       0|     3|Palsson, Master. ...|  male| 2.0|    3|    1|          349909| 21.075| null|       S|\n",
      "|          9|       1|     3|Johnson, Mrs. Osc...|female|27.0|    0|    2|          347742|11.1333| null|       S|\n",
      "|         10|       1|     2|Nasser, Mrs. Nich...|female|14.0|    1|    0|          237736|30.0708| null|       C|\n",
      "+-----------+--------+------+--------------------+------+----+-----+-----+----------------+-------+-----+--------+\n",
      "only showing top 10 rows\n",
      "\n"
     ]
    }
   ],
   "source": [
    "#Read csv file into pyspark dataframe\n",
    "train_df.show(10)"
   ]
  },
  {
   "cell_type": "code",
   "execution_count": 5,
   "metadata": {
    "collapsed": false
   },
   "outputs": [
    {
     "data": {
      "text/plain": [
       "<matplotlib.axes._subplots.AxesSubplot at 0x7f590cfe3290>"
      ]
     },
     "execution_count": 5,
     "metadata": {},
     "output_type": "execute_result"
    },
    {
     "data": {
      "image/png": "[encoded data removed]",
      "text/plain": [
       "<matplotlib.figure.Figure at 0x7f59255ec350>"
      ]
     },
     "metadata": {},
     "output_type": "display_data"
    }
   ],
   "source": [
    "# Visualizing data is crucial for recognizing underlying patterns to exploit in the model.\n",
    "sns.barplot(x=\"Embarked\", y=\"Survived\", hue=\"Sex\", data=train_df.toPandas())"
   ]
  },
  {
   "cell_type": "code",
   "execution_count": 6,
   "metadata": {
    "collapsed": false
   },
   "outputs": [
    {
     "data": {
      "image/png": "[encoded data removed]",
      "text/plain": [
       "<matplotlib.figure.Figure at 0x7f590cfa42d0>"
      ]
     },
     "metadata": {},
     "output_type": "display_data"
    }
   ],
   "source": [
    "sns.pointplot(x=\"Pclass\", y=\"Survived\", hue=\"Sex\", data=train_df.toPandas(),\n",
    "              palette={\"male\": \"blue\", \"female\": \"pink\"},\n",
    "              markers=[\"*\", \"o\"], linestyles=[\"-\", \"--\"]);"
   ]
  },
  {
   "cell_type": "code",
   "execution_count": 7,
   "metadata": {
    "collapsed": false
   },
   "outputs": [],
   "source": [
    "##\n",
    "## Transforming Features\n",
    "#\n",
    "#   1. Aside from 'Sex', the 'Age' feature is second in importance. \n",
    "#     To avoid overfitting, I'm grouping people into logical human age groups.\n",
    "#\n",
    "#   2. Each Cabin starts with a letter. I bet this letter is much more important than the number that follows, \n",
    "#     let's slice it off.\n",
    "#    \n",
    "#   3. Fare is another continuous value that should be simplified. Place them into quartile bins accordingly.\n",
    "#    \n",
    "#   4. Extract information from the 'Name' feature. Rather than use the full name, I extracted the last name \n",
    "#      and name prefix (Mr. Mrs. Etc.), then appended them as their own features.\n",
    "#      Lastly, drop useless features. (Ticket and Name)\n",
    "\n",
    "\n",
    "def ageToCategory(age):\n",
    "    if age <= -1: return 'Unknown'\n",
    "    elif age > -1 and age <= 0: return 'Baby'\n",
    "    elif age > 0 and age <= 5: return 'Child'\n",
    "    elif age > 5 and age <= 18: return 'Teenager'\n",
    "    elif age > 18 and age <= 25: return 'Student'\n",
    "    elif age > 25 and age <= 35: return 'Young Adult'\n",
    "    elif age > 35 and age <= 60: return 'Adult'\n",
    "    elif age > 60 and age <= 120: return 'Senior'\n",
    "udfAgeToCategory = udf(ageToCategory, StringType())"
   ]
  },
  {
   "cell_type": "code",
   "execution_count": 8,
   "metadata": {
    "collapsed": false,
    "scrolled": true
   },
   "outputs": [],
   "source": [
    "#df = df.select(\"Age\", udfAgeToCategory(\"Age\").alias(\"LabelAge\"))\n",
    "train_df = train_df.withColumn(\"Age\", udfAgeToCategory(\"Age\"))"
   ]
  },
  {
   "cell_type": "code",
   "execution_count": 9,
   "metadata": {
    "collapsed": false
   },
   "outputs": [],
   "source": [
    "def simpleCabin(x):\n",
    "    if x is None:return 'N'\n",
    "    else:return x[0]\n",
    "udfSimpleCabin = udf(simpleCabin,StringType())"
   ]
  },
  {
   "cell_type": "code",
   "execution_count": 10,
   "metadata": {
    "collapsed": false
   },
   "outputs": [],
   "source": [
    "train_df = train_df.withColumn(\"Cabin\",udfSimpleCabin(\"Cabin\"))"
   ]
  },
  {
   "cell_type": "code",
   "execution_count": 11,
   "metadata": {
    "collapsed": false
   },
   "outputs": [],
   "source": [
    "train_df.na.fill({'Fare':-0.5})\n",
    "def simpleFares(fare):\n",
    "    if fare <= -1:return 'Unknown'\n",
    "    elif fare > -1 and fare <= 0:return '1_quartile'\n",
    "    elif fare > 0 and fare <= 8:return '2_quartile'\n",
    "    elif fare > 8 and fare <= 15:return '3_quartile'\n",
    "    elif fare > 15 and fare <= 31:return '4_quartile'\n",
    "    elif fare > 31 and fare <= 1000:return '5_quartile'\n",
    "udfSimpleFares = udf(simpleFares,StringType())"
   ]
  },
  {
   "cell_type": "code",
   "execution_count": 12,
   "metadata": {
    "collapsed": false
   },
   "outputs": [],
   "source": [
    "train_df = train_df.withColumn(\"Fare\",udfSimpleFares(\"Fare\"))"
   ]
  },
  {
   "cell_type": "code",
   "execution_count": 13,
   "metadata": {
    "collapsed": false
   },
   "outputs": [],
   "source": [
    "def FetchLastName(name):\n",
    "    return name.split(' ')[0]\n",
    "def FetchSal(name):\n",
    "    return name.split(' ')[1]\n",
    "udfFetchLastName = udf(FetchLastName,StringType())\n",
    "udfFetchSal = udf(FetchSal,StringType())\n",
    "\n",
    "train_df = train_df.withColumn(\"Last Name\",udfFetchLastName(\"Name\"))\n",
    "train_df = train_df.withColumn(\"Prefix\",udfFetchSal(\"Name\"))"
   ]
  },
  {
   "cell_type": "code",
   "execution_count": 14,
   "metadata": {
    "collapsed": false
   },
   "outputs": [
    {
     "name": "stdout",
     "output_type": "stream",
     "text": [
      "+-----------+--------+------+--------------------+------+-----------+-----+-----+----------------+----------+-----+--------+----------+------+\n",
      "|PassengerId|Survived|Pclass|                Name|   Sex|        Age|SibSp|Parch|          Ticket|      Fare|Cabin|Embarked| Last Name|Prefix|\n",
      "+-----------+--------+------+--------------------+------+-----------+-----+-----+----------------+----------+-----+--------+----------+------+\n",
      "|          1|       0|     3|Braund, Mr. Owen ...|  male|    Student|    1|    0|       A/5 21171|2_quartile|    N|       S|   Braund,|   Mr.|\n",
      "|          2|       1|     1|Cumings, Mrs. Joh...|female|      Adult|    1|    0|        PC 17599|5_quartile|    C|       C|  Cumings,|  Mrs.|\n",
      "|          3|       1|     3|Heikkinen, Miss. ...|female|Young Adult|    0|    0|STON/O2. 3101282|2_quartile|    N|       S|Heikkinen,| Miss.|\n",
      "|          4|       1|     1|Futrelle, Mrs. Ja...|female|Young Adult|    1|    0|          113803|5_quartile|    C|       S| Futrelle,|  Mrs.|\n",
      "|          5|       0|     3|Allen, Mr. Willia...|  male|Young Adult|    0|    0|          373450|3_quartile|    N|       S|    Allen,|   Mr.|\n",
      "+-----------+--------+------+--------------------+------+-----------+-----+-----+----------------+----------+-----+--------+----------+------+\n",
      "only showing top 5 rows\n",
      "\n"
     ]
    }
   ],
   "source": [
    "train_df.show(5)"
   ]
  },
  {
   "cell_type": "code",
   "execution_count": 15,
   "metadata": {
    "collapsed": false
   },
   "outputs": [],
   "source": [
    "train_df = train_df.drop('Name','Ticket','Last Name','Embarked')"
   ]
  },
  {
   "cell_type": "code",
   "execution_count": 16,
   "metadata": {
    "collapsed": false
   },
   "outputs": [
    {
     "name": "stdout",
     "output_type": "stream",
     "text": [
      "+-----------+--------+------+------+-----------+-----+-----+----------+-----+------+\n",
      "|PassengerId|Survived|Pclass|   Sex|        Age|SibSp|Parch|      Fare|Cabin|Prefix|\n",
      "+-----------+--------+------+------+-----------+-----+-----+----------+-----+------+\n",
      "|          1|       0|     3|  male|    Student|    1|    0|2_quartile|    N|   Mr.|\n",
      "|          2|       1|     1|female|      Adult|    1|    0|5_quartile|    C|  Mrs.|\n",
      "|          3|       1|     3|female|Young Adult|    0|    0|2_quartile|    N| Miss.|\n",
      "|          4|       1|     1|female|Young Adult|    1|    0|5_quartile|    C|  Mrs.|\n",
      "|          5|       0|     3|  male|Young Adult|    0|    0|3_quartile|    N|   Mr.|\n",
      "+-----------+--------+------+------+-----------+-----+-----+----------+-----+------+\n",
      "only showing top 5 rows\n",
      "\n"
     ]
    }
   ],
   "source": [
    "train_df.show(5)"
   ]
  },
  {
   "cell_type": "code",
   "execution_count": 17,
   "metadata": {
    "collapsed": false
   },
   "outputs": [],
   "source": [
    "features = ['Fare', 'Cabin', 'Age', 'Sex','Prefix']\n",
    "for feature in features:\n",
    "    indexer = StringIndexer(inputCol = feature, outputCol = feature+'_Transformed')\n",
    "    train_df = indexer.fit(train_df).transform(train_df)\n",
    "    train_df = train_df.drop(feature)\n"
   ]
  },
  {
   "cell_type": "code",
   "execution_count": 18,
   "metadata": {
    "collapsed": false
   },
   "outputs": [
    {
     "name": "stdout",
     "output_type": "stream",
     "text": [
      "+-----------+--------+------+-----+-----+----------------+-----------------+---------------+---------------+------------------+\n",
      "|PassengerId|Survived|Pclass|SibSp|Parch|Fare_Transformed|Cabin_Transformed|Age_Transformed|Sex_Transformed|Prefix_Transformed|\n",
      "+-----------+--------+------+-----+-----+----------------+-----------------+---------------+---------------+------------------+\n",
      "|          1|       0|     3|    1|    0|             0.0|              0.0|            3.0|            0.0|               0.0|\n",
      "|          2|       1|     1|    1|    0|             1.0|              1.0|            1.0|            1.0|               2.0|\n",
      "|          3|       1|     3|    0|    0|             0.0|              0.0|            0.0|            1.0|               1.0|\n",
      "|          4|       1|     1|    1|    0|             1.0|              1.0|            0.0|            1.0|               2.0|\n",
      "|          5|       0|     3|    0|    0|             2.0|              0.0|            0.0|            0.0|               0.0|\n",
      "+-----------+--------+------+-----+-----+----------------+-----------------+---------------+---------------+------------------+\n",
      "only showing top 5 rows\n",
      "\n"
     ]
    }
   ],
   "source": [
    "train_df.show(5)"
   ]
  },
  {
   "cell_type": "code",
   "execution_count": 19,
   "metadata": {
    "collapsed": false
   },
   "outputs": [],
   "source": [
    "# Index labels, adding metadata to the label column.\n",
    "# Fit on whole dataset to include all labels in index.\n",
    "labelIndexer = StringIndexer(inputCol=\"Survived\", outputCol=\"indexedLabel\").fit(train_df)\n",
    "\n",
    "# Automatically identify categorical features, and index them.\n",
    "# Set maxCategories so features with > 4 distinct values are treated as continuous.\n",
    "featureIndexer =\\\n",
    "    VectorAssembler(\n",
    "    inputCols=['Pclass','SibSp','Parch','Fare_Transformed','Cabin_Transformed','Age_Transformed','Sex_Transformed','Prefix_Transformed'],\n",
    "    outputCol=\"features\")"
   ]
  },
  {
   "cell_type": "code",
   "execution_count": 20,
   "metadata": {
    "collapsed": false
   },
   "outputs": [],
   "source": [
    "(trainingData, testData) = train_df.randomSplit([0.7, 0.3])"
   ]
  },
  {
   "cell_type": "code",
   "execution_count": 21,
   "metadata": {
    "collapsed": false
   },
   "outputs": [],
   "source": [
    "# Train a RandomForest model.\n",
    "rf = RandomForestClassifier(labelCol=\"indexedLabel\", featuresCol=\"features\", numTrees=300)\n",
    "\n",
    "# Convert indexed labels back to original labels.\n",
    "labelConverter = IndexToString(inputCol=\"prediction\", outputCol=\"predictedLabel\",\n",
    "                               labels=labelIndexer.labels)\n",
    "# Chain indexers and forest in a Pipeline\n",
    "pipeline = Pipeline(stages=[labelIndexer, featureIndexer, rf, labelConverter])\n"
   ]
  },
  {
   "cell_type": "code",
   "execution_count": 22,
   "metadata": {
    "collapsed": false
   },
   "outputs": [],
   "source": [
    "# Train model.  This also runs the indexers.\n",
    "model = pipeline.fit(trainingData)\n"
   ]
  },
  {
   "cell_type": "code",
   "execution_count": 23,
   "metadata": {
    "collapsed": false
   },
   "outputs": [
    {
     "name": "stdout",
     "output_type": "stream",
     "text": [
      "+--------------+--------+--------------------+\n",
      "|predictedLabel|Survived|            features|\n",
      "+--------------+--------+--------------------+\n",
      "|             0|       0|(8,[0,1,5],[3.0,1...|\n",
      "|             1|       1|[1.0,1.0,0.0,1.0,...|\n",
      "|             1|       1|[1.0,1.0,0.0,1.0,...|\n",
      "|             0|       0| (8,[0,3],[3.0,2.0])|\n",
      "|             1|       0|(8,[0,3,4,5],[1.0...|\n",
      "+--------------+--------+--------------------+\n",
      "only showing top 5 rows\n",
      "\n"
     ]
    }
   ],
   "source": [
    "predictions = model.transform(testData)\n",
    "predictions.select(\"predictedLabel\",\"Survived\", \"features\").show(5)"
   ]
  },
  {
   "cell_type": "code",
   "execution_count": 24,
   "metadata": {
    "collapsed": false
   },
   "outputs": [
    {
     "name": "stdout",
     "output_type": "stream",
     "text": [
      "Accuracy = 0.84739\n",
      "Test Error = 0.15261\n"
     ]
    }
   ],
   "source": [
    "evaluator = MulticlassClassificationEvaluator(\n",
    "    labelCol=\"indexedLabel\", predictionCol=\"prediction\", metricName=\"accuracy\")\n",
    "accuracy = evaluator.evaluate(predictions)\n",
    "print(\"Accuracy = %g\"%accuracy)\n",
    "print(\"Test Error = %g\" % (1.0 - accuracy))"
   ]
  },
  {
   "cell_type": "code",
   "execution_count": 25,
   "metadata": {
    "collapsed": false
   },
   "outputs": [
    {
     "name": "stdout",
     "output_type": "stream",
     "text": [
      "RandomForestClassificationModel (uid=rfc_6aa1dbe35211) with 300 trees\n"
     ]
    }
   ],
   "source": [
    "rfModel = model.stages[2]\n",
    "print(rfModel) "
   ]
  },
  {
   "cell_type": "code",
   "execution_count": 26,
   "metadata": {
    "collapsed": false
   },
   "outputs": [
    {
     "data": {
      "text/plain": [
       "[DecisionTreeClassificationModel (uid=dtc_b1aed17fe1cd) of depth 5 with 47 nodes,\n",
       " DecisionTreeClassificationModel (uid=dtc_4283c554954b) of depth 5 with 41 nodes,\n",
       " DecisionTreeClassificationModel (uid=dtc_76db93eeebb7) of depth 5 with 41 nodes,\n",
       " DecisionTreeClassificationModel (uid=dtc_5da3732a3ffb) of depth 5 with 49 nodes,\n",
       " DecisionTreeClassificationModel (uid=dtc_756d3c630d9d) of depth 5 with 45 nodes,\n",
       " DecisionTreeClassificationModel (uid=dtc_7c67f7d1ea6e) of depth 5 with 55 nodes,\n",
       " DecisionTreeClassificationModel (uid=dtc_d6b37e5edae6) of depth 5 with 49 nodes,\n",
       " DecisionTreeClassificationModel (uid=dtc_7c439954cef0) of depth 5 with 47 nodes,\n",
       " DecisionTreeClassificationModel (uid=dtc_6cb4aae06d46) of depth 5 with 51 nodes,\n",
       " DecisionTreeClassificationModel (uid=dtc_bd0a6887d1ed) of depth 5 with 35 nodes,\n",
       " DecisionTreeClassificationModel (uid=dtc_7af1ac05cf0a) of depth 5 with 51 nodes,\n",
       " DecisionTreeClassificationModel (uid=dtc_b19a8e410dde) of depth 5 with 45 nodes,\n",
       " DecisionTreeClassificationModel (uid=dtc_ed701a96d4e2) of depth 5 with 53 nodes,\n",
       " DecisionTreeClassificationModel (uid=dtc_5ca589ed7527) of depth 5 with 51 nodes,\n",
       " DecisionTreeClassificationModel (uid=dtc_781dc1c01f2a) of depth 5 with 43 nodes,\n",
       " DecisionTreeClassificationModel (uid=dtc_f889e4043dc9) of depth 5 with 51 nodes,\n",
       " DecisionTreeClassificationModel (uid=dtc_7cab5f8e0030) of depth 5 with 45 nodes,\n",
       " DecisionTreeClassificationModel (uid=dtc_c4a7b9399384) of depth 5 with 47 nodes,\n",
       " DecisionTreeClassificationModel (uid=dtc_4a2b740994f4) of depth 5 with 45 nodes,\n",
       " DecisionTreeClassificationModel (uid=dtc_b3d4a8d43f2e) of depth 5 with 51 nodes,\n",
       " DecisionTreeClassificationModel (uid=dtc_21cea5cd93f6) of depth 5 with 45 nodes,\n",
       " DecisionTreeClassificationModel (uid=dtc_924e52ef79ab) of depth 5 with 51 nodes,\n",
       " DecisionTreeClassificationModel (uid=dtc_f3af386bd25a) of depth 5 with 43 nodes,\n",
       " DecisionTreeClassificationModel (uid=dtc_a925d140dcb8) of depth 5 with 43 nodes,\n",
       " DecisionTreeClassificationModel (uid=dtc_7edd2fa2d9ee) of depth 5 with 51 nodes,\n",
       " DecisionTreeClassificationModel (uid=dtc_748757f7dd6b) of depth 5 with 43 nodes,\n",
       " DecisionTreeClassificationModel (uid=dtc_bd94b3f4177d) of depth 5 with 49 nodes,\n",
       " DecisionTreeClassificationModel (uid=dtc_090230c23b7d) of depth 5 with 45 nodes,\n",
       " DecisionTreeClassificationModel (uid=dtc_f0f46bf7d3b8) of depth 5 with 49 nodes,\n",
       " DecisionTreeClassificationModel (uid=dtc_858a964c5f47) of depth 5 with 49 nodes,\n",
       " DecisionTreeClassificationModel (uid=dtc_423f96484070) of depth 5 with 49 nodes,\n",
       " DecisionTreeClassificationModel (uid=dtc_196cc808cda7) of depth 5 with 47 nodes,\n",
       " DecisionTreeClassificationModel (uid=dtc_e22ed0967a42) of depth 5 with 33 nodes,\n",
       " DecisionTreeClassificationModel (uid=dtc_4aaf9d12b20a) of depth 5 with 45 nodes,\n",
       " DecisionTreeClassificationModel (uid=dtc_33bc67ba532d) of depth 5 with 43 nodes,\n",
       " DecisionTreeClassificationModel (uid=dtc_a05d01c112b0) of depth 5 with 47 nodes,\n",
       " DecisionTreeClassificationModel (uid=dtc_a74facc6bd9b) of depth 5 with 49 nodes,\n",
       " DecisionTreeClassificationModel (uid=dtc_9a4577a84135) of depth 5 with 43 nodes,\n",
       " DecisionTreeClassificationModel (uid=dtc_8e74460c989a) of depth 5 with 45 nodes,\n",
       " DecisionTreeClassificationModel (uid=dtc_904561003ffd) of depth 5 with 45 nodes,\n",
       " DecisionTreeClassificationModel (uid=dtc_56a679c66f62) of depth 5 with 47 nodes,\n",
       " DecisionTreeClassificationModel (uid=dtc_05fe0d0c74cf) of depth 5 with 39 nodes,\n",
       " DecisionTreeClassificationModel (uid=dtc_edf192fa5393) of depth 5 with 45 nodes,\n",
       " DecisionTreeClassificationModel (uid=dtc_d9f993fd44fc) of depth 5 with 43 nodes,\n",
       " DecisionTreeClassificationModel (uid=dtc_b7f986cc8568) of depth 5 with 39 nodes,\n",
       " DecisionTreeClassificationModel (uid=dtc_16c934fe0ee4) of depth 5 with 51 nodes,\n",
       " DecisionTreeClassificationModel (uid=dtc_28c1493efdcd) of depth 5 with 39 nodes,\n",
       " DecisionTreeClassificationModel (uid=dtc_8795f6e03cf2) of depth 5 with 39 nodes,\n",
       " DecisionTreeClassificationModel (uid=dtc_92086400a300) of depth 5 with 43 nodes,\n",
       " DecisionTreeClassificationModel (uid=dtc_f1b7c15cb64c) of depth 5 with 41 nodes,\n",
       " DecisionTreeClassificationModel (uid=dtc_389884d2fecc) of depth 5 with 49 nodes,\n",
       " DecisionTreeClassificationModel (uid=dtc_d4ef68b101a5) of depth 5 with 55 nodes,\n",
       " DecisionTreeClassificationModel (uid=dtc_b3c192655dd9) of depth 5 with 45 nodes,\n",
       " DecisionTreeClassificationModel (uid=dtc_9b5a3adfc272) of depth 5 with 47 nodes,\n",
       " DecisionTreeClassificationModel (uid=dtc_9c40c9f1c0d8) of depth 5 with 37 nodes,\n",
       " DecisionTreeClassificationModel (uid=dtc_a2e9794eafdf) of depth 5 with 43 nodes,\n",
       " DecisionTreeClassificationModel (uid=dtc_c4ae3047b0ca) of depth 5 with 37 nodes,\n",
       " DecisionTreeClassificationModel (uid=dtc_26930a886080) of depth 5 with 47 nodes,\n",
       " DecisionTreeClassificationModel (uid=dtc_cdcfd1dc4066) of depth 5 with 45 nodes,\n",
       " DecisionTreeClassificationModel (uid=dtc_1a6085de24ad) of depth 5 with 49 nodes,\n",
       " DecisionTreeClassificationModel (uid=dtc_1b6e9b4338ba) of depth 5 with 47 nodes,\n",
       " DecisionTreeClassificationModel (uid=dtc_3584c719a893) of depth 5 with 51 nodes,\n",
       " DecisionTreeClassificationModel (uid=dtc_a38af7afb6f9) of depth 5 with 45 nodes,\n",
       " DecisionTreeClassificationModel (uid=dtc_c3c1eda541bb) of depth 5 with 31 nodes,\n",
       " DecisionTreeClassificationModel (uid=dtc_5f22486a48f4) of depth 5 with 51 nodes,\n",
       " DecisionTreeClassificationModel (uid=dtc_307effb6845d) of depth 5 with 45 nodes,\n",
       " DecisionTreeClassificationModel (uid=dtc_d38e5352c2be) of depth 5 with 49 nodes,\n",
       " DecisionTreeClassificationModel (uid=dtc_6902570b9f5e) of depth 5 with 45 nodes,\n",
       " DecisionTreeClassificationModel (uid=dtc_91d7dd27d55b) of depth 5 with 51 nodes,\n",
       " DecisionTreeClassificationModel (uid=dtc_fd71f3cf0e23) of depth 5 with 33 nodes,\n",
       " DecisionTreeClassificationModel (uid=dtc_282ff75665bc) of depth 5 with 47 nodes,\n",
       " DecisionTreeClassificationModel (uid=dtc_453bfffce651) of depth 5 with 45 nodes,\n",
       " DecisionTreeClassificationModel (uid=dtc_4c94fcedd78b) of depth 5 with 47 nodes,\n",
       " DecisionTreeClassificationModel (uid=dtc_3c17c96f75a4) of depth 5 with 49 nodes,\n",
       " DecisionTreeClassificationModel (uid=dtc_cef7f0ca52ad) of depth 5 with 41 nodes,\n",
       " DecisionTreeClassificationModel (uid=dtc_58e511c6f4a6) of depth 5 with 47 nodes,\n",
       " DecisionTreeClassificationModel (uid=dtc_2e0ac464c61e) of depth 5 with 39 nodes,\n",
       " DecisionTreeClassificationModel (uid=dtc_52ead9318422) of depth 5 with 39 nodes,\n",
       " DecisionTreeClassificationModel (uid=dtc_aaaa8499205e) of depth 5 with 47 nodes,\n",
       " DecisionTreeClassificationModel (uid=dtc_d8309e92af37) of depth 5 with 53 nodes,\n",
       " DecisionTreeClassificationModel (uid=dtc_f60f882b728f) of depth 5 with 43 nodes,\n",
       " DecisionTreeClassificationModel (uid=dtc_0e231543da5e) of depth 5 with 47 nodes,\n",
       " DecisionTreeClassificationModel (uid=dtc_8cc8298ac28b) of depth 5 with 51 nodes,\n",
       " DecisionTreeClassificationModel (uid=dtc_4cdc3522268e) of depth 5 with 47 nodes,\n",
       " DecisionTreeClassificationModel (uid=dtc_a9869fac4c1b) of depth 5 with 51 nodes,\n",
       " DecisionTreeClassificationModel (uid=dtc_65f475c02fc5) of depth 5 with 49 nodes,\n",
       " DecisionTreeClassificationModel (uid=dtc_92cac331a587) of depth 5 with 49 nodes,\n",
       " DecisionTreeClassificationModel (uid=dtc_00ed2411f406) of depth 5 with 41 nodes,\n",
       " DecisionTreeClassificationModel (uid=dtc_47575e86b78e) of depth 5 with 45 nodes,\n",
       " DecisionTreeClassificationModel (uid=dtc_dc519fece0e5) of depth 5 with 45 nodes,\n",
       " DecisionTreeClassificationModel (uid=dtc_b804e538c747) of depth 5 with 43 nodes,\n",
       " DecisionTreeClassificationModel (uid=dtc_c3ae152f3a29) of depth 5 with 51 nodes,\n",
       " DecisionTreeClassificationModel (uid=dtc_25e469a25e29) of depth 5 with 47 nodes,\n",
       " DecisionTreeClassificationModel (uid=dtc_8b201e93fca8) of depth 5 with 41 nodes,\n",
       " DecisionTreeClassificationModel (uid=dtc_58a8c4ad60ed) of depth 5 with 45 nodes,\n",
       " DecisionTreeClassificationModel (uid=dtc_fb7bd477a9e0) of depth 5 with 45 nodes,\n",
       " DecisionTreeClassificationModel (uid=dtc_1ec8cc681767) of depth 5 with 51 nodes,\n",
       " DecisionTreeClassificationModel (uid=dtc_f6157e14a825) of depth 5 with 45 nodes,\n",
       " DecisionTreeClassificationModel (uid=dtc_05d3e2c28867) of depth 5 with 51 nodes,\n",
       " DecisionTreeClassificationModel (uid=dtc_e379e9164bf9) of depth 5 with 43 nodes,\n",
       " DecisionTreeClassificationModel (uid=dtc_7698d058d405) of depth 5 with 53 nodes,\n",
       " DecisionTreeClassificationModel (uid=dtc_0e7bc0cd4503) of depth 5 with 43 nodes,\n",
       " DecisionTreeClassificationModel (uid=dtc_3d1f39193f95) of depth 5 with 49 nodes,\n",
       " DecisionTreeClassificationModel (uid=dtc_d2b1a7912397) of depth 5 with 49 nodes,\n",
       " DecisionTreeClassificationModel (uid=dtc_f93a816fe7f1) of depth 5 with 53 nodes,\n",
       " DecisionTreeClassificationModel (uid=dtc_6d75a5e20d7a) of depth 5 with 39 nodes,\n",
       " DecisionTreeClassificationModel (uid=dtc_9ef719642e78) of depth 5 with 47 nodes,\n",
       " DecisionTreeClassificationModel (uid=dtc_1315a8452b73) of depth 5 with 47 nodes,\n",
       " DecisionTreeClassificationModel (uid=dtc_2157c139bd91) of depth 5 with 57 nodes,\n",
       " DecisionTreeClassificationModel (uid=dtc_d42a5ea4a4be) of depth 5 with 47 nodes,\n",
       " DecisionTreeClassificationModel (uid=dtc_328fa9e1ce86) of depth 5 with 55 nodes,\n",
       " DecisionTreeClassificationModel (uid=dtc_f928f104a9ef) of depth 5 with 43 nodes,\n",
       " DecisionTreeClassificationModel (uid=dtc_1dcd44c7d953) of depth 5 with 37 nodes,\n",
       " DecisionTreeClassificationModel (uid=dtc_8c676e79daf4) of depth 5 with 47 nodes,\n",
       " DecisionTreeClassificationModel (uid=dtc_5944f69cf97e) of depth 5 with 45 nodes,\n",
       " DecisionTreeClassificationModel (uid=dtc_63ed10797cd3) of depth 5 with 39 nodes,\n",
       " DecisionTreeClassificationModel (uid=dtc_4896273bfa57) of depth 5 with 33 nodes,\n",
       " DecisionTreeClassificationModel (uid=dtc_909f2cb87f3f) of depth 5 with 55 nodes,\n",
       " DecisionTreeClassificationModel (uid=dtc_61ddf80e88ab) of depth 5 with 53 nodes,\n",
       " DecisionTreeClassificationModel (uid=dtc_338e787f8d5c) of depth 5 with 47 nodes,\n",
       " DecisionTreeClassificationModel (uid=dtc_e941b2d8c9db) of depth 5 with 33 nodes,\n",
       " DecisionTreeClassificationModel (uid=dtc_a17bc7616cfc) of depth 5 with 41 nodes,\n",
       " DecisionTreeClassificationModel (uid=dtc_b51a42d4856c) of depth 5 with 37 nodes,\n",
       " DecisionTreeClassificationModel (uid=dtc_5ff48132a84e) of depth 5 with 43 nodes,\n",
       " DecisionTreeClassificationModel (uid=dtc_81ab7f096f82) of depth 5 with 39 nodes,\n",
       " DecisionTreeClassificationModel (uid=dtc_48c547f9dd1c) of depth 5 with 49 nodes,\n",
       " DecisionTreeClassificationModel (uid=dtc_908393cbb810) of depth 5 with 51 nodes,\n",
       " DecisionTreeClassificationModel (uid=dtc_513fb94eb908) of depth 5 with 47 nodes,\n",
       " DecisionTreeClassificationModel (uid=dtc_021a57783925) of depth 5 with 43 nodes,\n",
       " DecisionTreeClassificationModel (uid=dtc_95ecb852d4bc) of depth 5 with 45 nodes,\n",
       " DecisionTreeClassificationModel (uid=dtc_c96227fc4a89) of depth 5 with 39 nodes,\n",
       " DecisionTreeClassificationModel (uid=dtc_1ae866d4b80e) of depth 5 with 53 nodes,\n",
       " DecisionTreeClassificationModel (uid=dtc_4d08b3bdd681) of depth 5 with 45 nodes,\n",
       " DecisionTreeClassificationModel (uid=dtc_7181233f606c) of depth 5 with 37 nodes,\n",
       " DecisionTreeClassificationModel (uid=dtc_07b854bab3ac) of depth 5 with 45 nodes,\n",
       " DecisionTreeClassificationModel (uid=dtc_6ed0ad68d200) of depth 5 with 47 nodes,\n",
       " DecisionTreeClassificationModel (uid=dtc_c53216a1c22a) of depth 5 with 47 nodes,\n",
       " DecisionTreeClassificationModel (uid=dtc_984b657520af) of depth 5 with 37 nodes,\n",
       " DecisionTreeClassificationModel (uid=dtc_75c284512110) of depth 5 with 49 nodes,\n",
       " DecisionTreeClassificationModel (uid=dtc_582b19817fd2) of depth 5 with 41 nodes,\n",
       " DecisionTreeClassificationModel (uid=dtc_a975f465d02f) of depth 5 with 51 nodes,\n",
       " DecisionTreeClassificationModel (uid=dtc_6ccfac7f42c6) of depth 5 with 49 nodes,\n",
       " DecisionTreeClassificationModel (uid=dtc_8fe599d125ce) of depth 5 with 53 nodes,\n",
       " DecisionTreeClassificationModel (uid=dtc_ebc24a05fdad) of depth 5 with 41 nodes,\n",
       " DecisionTreeClassificationModel (uid=dtc_73ec4b227298) of depth 5 with 55 nodes,\n",
       " DecisionTreeClassificationModel (uid=dtc_224605d558e7) of depth 5 with 49 nodes,\n",
       " DecisionTreeClassificationModel (uid=dtc_091e92b4b80c) of depth 5 with 43 nodes,\n",
       " DecisionTreeClassificationModel (uid=dtc_a58d8cc44479) of depth 5 with 45 nodes,\n",
       " DecisionTreeClassificationModel (uid=dtc_fb219ccefbdd) of depth 5 with 41 nodes,\n",
       " DecisionTreeClassificationModel (uid=dtc_d0d1e69b7e63) of depth 5 with 55 nodes,\n",
       " DecisionTreeClassificationModel (uid=dtc_f126a0b9d9f4) of depth 5 with 47 nodes,\n",
       " DecisionTreeClassificationModel (uid=dtc_f82ddeda6bdc) of depth 5 with 43 nodes,\n",
       " DecisionTreeClassificationModel (uid=dtc_fd5b53730772) of depth 5 with 41 nodes,\n",
       " DecisionTreeClassificationModel (uid=dtc_6f5b420653f0) of depth 5 with 55 nodes,\n",
       " DecisionTreeClassificationModel (uid=dtc_12bac4176862) of depth 5 with 47 nodes,\n",
       " DecisionTreeClassificationModel (uid=dtc_e8c9b8b91a67) of depth 5 with 41 nodes,\n",
       " DecisionTreeClassificationModel (uid=dtc_0c1f33c5927e) of depth 5 with 53 nodes,\n",
       " DecisionTreeClassificationModel (uid=dtc_034460e8aab4) of depth 5 with 53 nodes,\n",
       " DecisionTreeClassificationModel (uid=dtc_16755192161f) of depth 5 with 55 nodes,\n",
       " DecisionTreeClassificationModel (uid=dtc_9c1a79d1865e) of depth 5 with 47 nodes,\n",
       " DecisionTreeClassificationModel (uid=dtc_9f9d369e3a7e) of depth 5 with 45 nodes,\n",
       " DecisionTreeClassificationModel (uid=dtc_10869fc2195d) of depth 5 with 43 nodes,\n",
       " DecisionTreeClassificationModel (uid=dtc_57d0decce587) of depth 5 with 47 nodes,\n",
       " DecisionTreeClassificationModel (uid=dtc_be8538d8f395) of depth 5 with 51 nodes,\n",
       " DecisionTreeClassificationModel (uid=dtc_c6c94b296435) of depth 5 with 51 nodes,\n",
       " DecisionTreeClassificationModel (uid=dtc_f02287a190d5) of depth 5 with 39 nodes,\n",
       " DecisionTreeClassificationModel (uid=dtc_74d191cbe10b) of depth 5 with 47 nodes,\n",
       " DecisionTreeClassificationModel (uid=dtc_c27f14e81ee6) of depth 5 with 45 nodes,\n",
       " DecisionTreeClassificationModel (uid=dtc_c6acdd84c8c2) of depth 5 with 41 nodes,\n",
       " DecisionTreeClassificationModel (uid=dtc_a5feb36526b5) of depth 5 with 47 nodes,\n",
       " DecisionTreeClassificationModel (uid=dtc_6401d135f884) of depth 5 with 51 nodes,\n",
       " DecisionTreeClassificationModel (uid=dtc_3a657842495c) of depth 5 with 41 nodes,\n",
       " DecisionTreeClassificationModel (uid=dtc_423b0e53d373) of depth 5 with 43 nodes,\n",
       " DecisionTreeClassificationModel (uid=dtc_c8b03e9830cf) of depth 5 with 49 nodes,\n",
       " DecisionTreeClassificationModel (uid=dtc_e1c641872e1a) of depth 5 with 51 nodes,\n",
       " DecisionTreeClassificationModel (uid=dtc_72f26e58dc64) of depth 5 with 45 nodes,\n",
       " DecisionTreeClassificationModel (uid=dtc_89218e51c612) of depth 5 with 41 nodes,\n",
       " DecisionTreeClassificationModel (uid=dtc_4dcad76e7f05) of depth 5 with 45 nodes,\n",
       " DecisionTreeClassificationModel (uid=dtc_b5dc575b8638) of depth 5 with 49 nodes,\n",
       " DecisionTreeClassificationModel (uid=dtc_91d17c128054) of depth 5 with 47 nodes,\n",
       " DecisionTreeClassificationModel (uid=dtc_6e47c8f3e0f9) of depth 5 with 39 nodes,\n",
       " DecisionTreeClassificationModel (uid=dtc_ce8feef8809e) of depth 5 with 39 nodes,\n",
       " DecisionTreeClassificationModel (uid=dtc_47a79b597e17) of depth 5 with 47 nodes,\n",
       " DecisionTreeClassificationModel (uid=dtc_7405fe20fb88) of depth 5 with 51 nodes,\n",
       " DecisionTreeClassificationModel (uid=dtc_0ee074dbc360) of depth 5 with 43 nodes,\n",
       " DecisionTreeClassificationModel (uid=dtc_a9c1678a0175) of depth 5 with 47 nodes,\n",
       " DecisionTreeClassificationModel (uid=dtc_2484e1e0ad80) of depth 5 with 43 nodes,\n",
       " DecisionTreeClassificationModel (uid=dtc_7e147ec6eef5) of depth 5 with 47 nodes,\n",
       " DecisionTreeClassificationModel (uid=dtc_04e5bfcf064e) of depth 5 with 43 nodes,\n",
       " DecisionTreeClassificationModel (uid=dtc_4f584f96b470) of depth 5 with 49 nodes,\n",
       " DecisionTreeClassificationModel (uid=dtc_7fe5b9edfbb8) of depth 5 with 49 nodes,\n",
       " DecisionTreeClassificationModel (uid=dtc_a8cb3c7384bd) of depth 5 with 51 nodes,\n",
       " DecisionTreeClassificationModel (uid=dtc_6cc20c55ecc7) of depth 5 with 37 nodes,\n",
       " DecisionTreeClassificationModel (uid=dtc_185e6ef378cb) of depth 5 with 45 nodes,\n",
       " DecisionTreeClassificationModel (uid=dtc_57cec4cb65bf) of depth 5 with 39 nodes,\n",
       " DecisionTreeClassificationModel (uid=dtc_ed04814187c3) of depth 5 with 53 nodes,\n",
       " DecisionTreeClassificationModel (uid=dtc_708bfdb4a828) of depth 5 with 49 nodes,\n",
       " DecisionTreeClassificationModel (uid=dtc_b9d6c67dafbd) of depth 5 with 35 nodes,\n",
       " DecisionTreeClassificationModel (uid=dtc_f59812f54822) of depth 5 with 47 nodes,\n",
       " DecisionTreeClassificationModel (uid=dtc_fa3c4cadab18) of depth 5 with 43 nodes,\n",
       " DecisionTreeClassificationModel (uid=dtc_df8bd8619c95) of depth 5 with 55 nodes,\n",
       " DecisionTreeClassificationModel (uid=dtc_e19dbb389e9c) of depth 5 with 43 nodes,\n",
       " DecisionTreeClassificationModel (uid=dtc_1e03cb4560f0) of depth 5 with 43 nodes,\n",
       " DecisionTreeClassificationModel (uid=dtc_8bf6e7be39de) of depth 5 with 49 nodes,\n",
       " DecisionTreeClassificationModel (uid=dtc_4048503c1643) of depth 5 with 47 nodes,\n",
       " DecisionTreeClassificationModel (uid=dtc_f11151b06be2) of depth 5 with 45 nodes,\n",
       " DecisionTreeClassificationModel (uid=dtc_0679af86daa5) of depth 5 with 43 nodes,\n",
       " DecisionTreeClassificationModel (uid=dtc_a03a49ba665c) of depth 5 with 51 nodes,\n",
       " DecisionTreeClassificationModel (uid=dtc_9fff780c4cc6) of depth 5 with 39 nodes,\n",
       " DecisionTreeClassificationModel (uid=dtc_0d0255f1b1fb) of depth 5 with 43 nodes,\n",
       " DecisionTreeClassificationModel (uid=dtc_cd994bfe5392) of depth 5 with 49 nodes,\n",
       " DecisionTreeClassificationModel (uid=dtc_fd42300b9e9e) of depth 5 with 45 nodes,\n",
       " DecisionTreeClassificationModel (uid=dtc_6929c65c26a4) of depth 5 with 49 nodes,\n",
       " DecisionTreeClassificationModel (uid=dtc_17d9be2a2d71) of depth 5 with 49 nodes,\n",
       " DecisionTreeClassificationModel (uid=dtc_d0f6a06a9678) of depth 5 with 47 nodes,\n",
       " DecisionTreeClassificationModel (uid=dtc_e1b2212494dc) of depth 5 with 45 nodes,\n",
       " DecisionTreeClassificationModel (uid=dtc_01d0a172c3bd) of depth 5 with 43 nodes,\n",
       " DecisionTreeClassificationModel (uid=dtc_65ad43186d4b) of depth 5 with 51 nodes,\n",
       " DecisionTreeClassificationModel (uid=dtc_c36884e187dd) of depth 5 with 49 nodes,\n",
       " DecisionTreeClassificationModel (uid=dtc_8d747335b06b) of depth 5 with 47 nodes,\n",
       " DecisionTreeClassificationModel (uid=dtc_f29d3345e26b) of depth 5 with 53 nodes,\n",
       " DecisionTreeClassificationModel (uid=dtc_27f5c31984e7) of depth 5 with 47 nodes,\n",
       " DecisionTreeClassificationModel (uid=dtc_9bd6b901898e) of depth 5 with 47 nodes,\n",
       " DecisionTreeClassificationModel (uid=dtc_9694ad66848d) of depth 5 with 45 nodes,\n",
       " DecisionTreeClassificationModel (uid=dtc_cb8751d03c0c) of depth 5 with 45 nodes,\n",
       " DecisionTreeClassificationModel (uid=dtc_87f0d05b4c44) of depth 5 with 47 nodes,\n",
       " DecisionTreeClassificationModel (uid=dtc_73f1ee28aad3) of depth 5 with 45 nodes,\n",
       " DecisionTreeClassificationModel (uid=dtc_daf42332d003) of depth 5 with 51 nodes,\n",
       " DecisionTreeClassificationModel (uid=dtc_28d8d131c256) of depth 5 with 49 nodes,\n",
       " DecisionTreeClassificationModel (uid=dtc_737c86d7aacc) of depth 5 with 49 nodes,\n",
       " DecisionTreeClassificationModel (uid=dtc_e0009b829858) of depth 5 with 53 nodes,\n",
       " DecisionTreeClassificationModel (uid=dtc_878092707cce) of depth 5 with 51 nodes,\n",
       " DecisionTreeClassificationModel (uid=dtc_a980a9e3a39e) of depth 5 with 39 nodes,\n",
       " DecisionTreeClassificationModel (uid=dtc_c1c53dfa7974) of depth 5 with 49 nodes,\n",
       " DecisionTreeClassificationModel (uid=dtc_53c2f850b337) of depth 5 with 51 nodes,\n",
       " DecisionTreeClassificationModel (uid=dtc_1e262878f809) of depth 5 with 43 nodes,\n",
       " DecisionTreeClassificationModel (uid=dtc_1fb0bfa6d199) of depth 5 with 39 nodes,\n",
       " DecisionTreeClassificationModel (uid=dtc_40645a96aa52) of depth 5 with 35 nodes,\n",
       " DecisionTreeClassificationModel (uid=dtc_0460ef889d4e) of depth 5 with 43 nodes,\n",
       " DecisionTreeClassificationModel (uid=dtc_8585c96ae9f5) of depth 5 with 43 nodes,\n",
       " DecisionTreeClassificationModel (uid=dtc_c3990b7de82a) of depth 5 with 49 nodes,\n",
       " DecisionTreeClassificationModel (uid=dtc_444002b5e5b7) of depth 5 with 41 nodes,\n",
       " DecisionTreeClassificationModel (uid=dtc_5ca6064f8b54) of depth 5 with 37 nodes,\n",
       " DecisionTreeClassificationModel (uid=dtc_f9fed2dd8f6d) of depth 5 with 51 nodes,\n",
       " DecisionTreeClassificationModel (uid=dtc_d7e46419c2cf) of depth 5 with 51 nodes,\n",
       " DecisionTreeClassificationModel (uid=dtc_36c5fdbd1069) of depth 5 with 39 nodes,\n",
       " DecisionTreeClassificationModel (uid=dtc_2b15d70166f9) of depth 5 with 41 nodes,\n",
       " DecisionTreeClassificationModel (uid=dtc_c2e05d99f18d) of depth 5 with 47 nodes,\n",
       " DecisionTreeClassificationModel (uid=dtc_3649747d8ca4) of depth 5 with 53 nodes,\n",
       " DecisionTreeClassificationModel (uid=dtc_d970e18280f2) of depth 5 with 39 nodes,\n",
       " DecisionTreeClassificationModel (uid=dtc_cbe14bb45243) of depth 5 with 43 nodes,\n",
       " DecisionTreeClassificationModel (uid=dtc_6563ecbdf694) of depth 5 with 43 nodes,\n",
       " DecisionTreeClassificationModel (uid=dtc_f8d403538c45) of depth 5 with 43 nodes,\n",
       " DecisionTreeClassificationModel (uid=dtc_b9f37768e27f) of depth 5 with 45 nodes,\n",
       " DecisionTreeClassificationModel (uid=dtc_8662be1a35a4) of depth 5 with 49 nodes,\n",
       " DecisionTreeClassificationModel (uid=dtc_b7c0d35ba251) of depth 5 with 49 nodes,\n",
       " DecisionTreeClassificationModel (uid=dtc_890bac49ade5) of depth 5 with 45 nodes,\n",
       " DecisionTreeClassificationModel (uid=dtc_c3f1ae42404a) of depth 5 with 51 nodes,\n",
       " DecisionTreeClassificationModel (uid=dtc_84a8e4fb03ee) of depth 5 with 47 nodes,\n",
       " DecisionTreeClassificationModel (uid=dtc_0e17556d264e) of depth 5 with 53 nodes,\n",
       " DecisionTreeClassificationModel (uid=dtc_5eef45a24ca1) of depth 5 with 45 nodes,\n",
       " DecisionTreeClassificationModel (uid=dtc_a377927ea3de) of depth 5 with 51 nodes,\n",
       " DecisionTreeClassificationModel (uid=dtc_9783c9e47696) of depth 5 with 41 nodes,\n",
       " DecisionTreeClassificationModel (uid=dtc_523f96f9e542) of depth 5 with 47 nodes,\n",
       " DecisionTreeClassificationModel (uid=dtc_758c927beada) of depth 5 with 43 nodes,\n",
       " DecisionTreeClassificationModel (uid=dtc_23c2c63c6d93) of depth 5 with 53 nodes,\n",
       " DecisionTreeClassificationModel (uid=dtc_84fb4041454e) of depth 5 with 43 nodes,\n",
       " DecisionTreeClassificationModel (uid=dtc_af3a575c0e4e) of depth 5 with 41 nodes,\n",
       " DecisionTreeClassificationModel (uid=dtc_aeb91ee62a88) of depth 5 with 45 nodes,\n",
       " DecisionTreeClassificationModel (uid=dtc_60c7578465b3) of depth 5 with 47 nodes,\n",
       " DecisionTreeClassificationModel (uid=dtc_e5c23d47e859) of depth 5 with 47 nodes,\n",
       " DecisionTreeClassificationModel (uid=dtc_f208447fc150) of depth 5 with 45 nodes,\n",
       " DecisionTreeClassificationModel (uid=dtc_1ab3e1283655) of depth 5 with 49 nodes,\n",
       " DecisionTreeClassificationModel (uid=dtc_539fd68a799b) of depth 5 with 45 nodes,\n",
       " DecisionTreeClassificationModel (uid=dtc_cf1aa6c8553c) of depth 5 with 51 nodes,\n",
       " DecisionTreeClassificationModel (uid=dtc_2722f7585391) of depth 5 with 45 nodes,\n",
       " DecisionTreeClassificationModel (uid=dtc_0efa8d9241c6) of depth 5 with 45 nodes,\n",
       " DecisionTreeClassificationModel (uid=dtc_c15d2309ebfb) of depth 5 with 43 nodes,\n",
       " DecisionTreeClassificationModel (uid=dtc_787f339a1706) of depth 5 with 41 nodes,\n",
       " DecisionTreeClassificationModel (uid=dtc_90cacac570c7) of depth 5 with 55 nodes,\n",
       " DecisionTreeClassificationModel (uid=dtc_0e32e7e42554) of depth 5 with 41 nodes,\n",
       " DecisionTreeClassificationModel (uid=dtc_6f470bd222be) of depth 5 with 39 nodes,\n",
       " DecisionTreeClassificationModel (uid=dtc_c9bb2670252f) of depth 5 with 51 nodes,\n",
       " DecisionTreeClassificationModel (uid=dtc_0858d9a7a230) of depth 5 with 49 nodes,\n",
       " DecisionTreeClassificationModel (uid=dtc_663f5d7db704) of depth 5 with 51 nodes,\n",
       " DecisionTreeClassificationModel (uid=dtc_4197828acc34) of depth 5 with 55 nodes,\n",
       " DecisionTreeClassificationModel (uid=dtc_e398d28d099a) of depth 5 with 51 nodes,\n",
       " DecisionTreeClassificationModel (uid=dtc_b9cb917cb5b7) of depth 5 with 51 nodes,\n",
       " DecisionTreeClassificationModel (uid=dtc_0aaa9bf1be68) of depth 5 with 45 nodes,\n",
       " DecisionTreeClassificationModel (uid=dtc_e8ffd4aeec50) of depth 5 with 51 nodes,\n",
       " DecisionTreeClassificationModel (uid=dtc_1f0f1caa7f5d) of depth 5 with 47 nodes,\n",
       " DecisionTreeClassificationModel (uid=dtc_34a6b91cc982) of depth 5 with 45 nodes,\n",
       " DecisionTreeClassificationModel (uid=dtc_2a231542ae51) of depth 5 with 47 nodes,\n",
       " DecisionTreeClassificationModel (uid=dtc_22ed863aafb2) of depth 5 with 47 nodes,\n",
       " DecisionTreeClassificationModel (uid=dtc_4e88059fef39) of depth 5 with 39 nodes,\n",
       " DecisionTreeClassificationModel (uid=dtc_19d66c4334bd) of depth 5 with 49 nodes,\n",
       " DecisionTreeClassificationModel (uid=dtc_06587c507363) of depth 5 with 49 nodes,\n",
       " DecisionTreeClassificationModel (uid=dtc_6071982f64ce) of depth 5 with 39 nodes,\n",
       " DecisionTreeClassificationModel (uid=dtc_937a2314263b) of depth 5 with 51 nodes,\n",
       " DecisionTreeClassificationModel (uid=dtc_09d4281d4f86) of depth 5 with 53 nodes]"
      ]
     },
     "execution_count": 26,
     "metadata": {},
     "output_type": "execute_result"
    }
   ],
   "source": [
    "rfModel.trees"
   ]
  },
  {
   "cell_type": "code",
   "execution_count": null,
   "metadata": {
    "collapsed": true
   },
   "outputs": [],
   "source": []
  },
  {
   "cell_type": "code",
   "execution_count": null,
   "metadata": {
    "collapsed": true
   },
   "outputs": [],
   "source": []
  }
 ],
 "metadata": {
  "anaconda-cloud": {},
  "kernelspec": {
   "display_name": "Python [conda root]",
   "language": "python",
   "name": "conda-root-py"
  },
  "language_info": {
   "codemirror_mode": {
    "name": "ipython",
    "version": 2
   },
   "file_extension": ".py",
   "mimetype": "text/x-python",
   "name": "python",
   "nbconvert_exporter": "python",
   "pygments_lexer": "ipython2",
   "version": "2.7.12"
  }
 },
 "nbformat": 4,
 "nbformat_minor": 1
}
